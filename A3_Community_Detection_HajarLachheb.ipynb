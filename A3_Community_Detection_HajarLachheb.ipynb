{
  "nbformat": 4,
  "nbformat_minor": 0,
  "metadata": {
    "colab": {
      "provenance": [],
      "toc_visible": true
    },
    "kernelspec": {
      "name": "python3",
      "display_name": "Python 3"
    },
    "language_info": {
      "name": "python"
    }
  },
  "cells": [
    {
      "cell_type": "markdown",
      "source": [
        "#Notebook : Community Detection ✅"
      ],
      "metadata": {
        "id": "SZ68uYCUFRqA"
      }
    },
    {
      "cell_type": "markdown",
      "source": [
        "Apply at least three different community detection algorithms for the attached undirected networks. It is not necessary to implement them, you may use any freely available software, with the exception of Pajek, which is forbidden for community detection (not for the rest of the tasks). At least one of the algorithms must be based on the optimization of modularity (but not all of them), and you must use at least two different programs (i.e., do not use the same application for the three algorithms).\n",
        "\n",
        "Some of the provided networks have a partition of reference, obtained from external information. In these cases, you have to compare your partitions with them, using at least the following standard measures: Jaccard Index, Normalized Mutual Information (arithmetic normalization), and Normalized Variation of Information. It is not necessary to implement the calculation of these indices, you may use any program (e.g. Radatools). Beware that you may find implementations of the Jaccard Index that are not related to community detection, thus the results would be incorrect."
      ],
      "metadata": {
        "id": "AIxKQKzyGqzL"
      }
    },
    {
      "cell_type": "code",
      "source": [
        "!pip install powerlaw"
      ],
      "metadata": {
        "colab": {
          "base_uri": "https://localhost:8080/"
        },
        "id": "Bkr5iGNFDlqN",
        "outputId": "b8e8f42f-6ada-49e6-a14f-3f8f8fd13d3b"
      },
      "execution_count": null,
      "outputs": [
        {
          "output_type": "stream",
          "name": "stdout",
          "text": [
            "Looking in indexes: https://pypi.org/simple, https://us-python.pkg.dev/colab-wheels/public/simple/\n",
            "Collecting powerlaw\n",
            "  Downloading powerlaw-1.5-py3-none-any.whl (24 kB)\n",
            "Requirement already satisfied: mpmath in /usr/local/lib/python3.9/dist-packages (from powerlaw) (1.3.0)\n",
            "Requirement already satisfied: scipy in /usr/local/lib/python3.9/dist-packages (from powerlaw) (1.10.1)\n",
            "Requirement already satisfied: matplotlib in /usr/local/lib/python3.9/dist-packages (from powerlaw) (3.7.1)\n",
            "Requirement already satisfied: numpy in /usr/local/lib/python3.9/dist-packages (from powerlaw) (1.22.4)\n",
            "Requirement already satisfied: importlib-resources>=3.2.0 in /usr/local/lib/python3.9/dist-packages (from matplotlib->powerlaw) (5.12.0)\n",
            "Requirement already satisfied: pyparsing>=2.3.1 in /usr/local/lib/python3.9/dist-packages (from matplotlib->powerlaw) (3.0.9)\n",
            "Requirement already satisfied: packaging>=20.0 in /usr/local/lib/python3.9/dist-packages (from matplotlib->powerlaw) (23.0)\n",
            "Requirement already satisfied: pillow>=6.2.0 in /usr/local/lib/python3.9/dist-packages (from matplotlib->powerlaw) (8.4.0)\n",
            "Requirement already satisfied: cycler>=0.10 in /usr/local/lib/python3.9/dist-packages (from matplotlib->powerlaw) (0.11.0)\n",
            "Requirement already satisfied: contourpy>=1.0.1 in /usr/local/lib/python3.9/dist-packages (from matplotlib->powerlaw) (1.0.7)\n",
            "Requirement already satisfied: python-dateutil>=2.7 in /usr/local/lib/python3.9/dist-packages (from matplotlib->powerlaw) (2.8.2)\n",
            "Requirement already satisfied: kiwisolver>=1.0.1 in /usr/local/lib/python3.9/dist-packages (from matplotlib->powerlaw) (1.4.4)\n",
            "Requirement already satisfied: fonttools>=4.22.0 in /usr/local/lib/python3.9/dist-packages (from matplotlib->powerlaw) (4.39.3)\n",
            "Requirement already satisfied: zipp>=3.1.0 in /usr/local/lib/python3.9/dist-packages (from importlib-resources>=3.2.0->matplotlib->powerlaw) (3.15.0)\n",
            "Requirement already satisfied: six>=1.5 in /usr/local/lib/python3.9/dist-packages (from python-dateutil>=2.7->matplotlib->powerlaw) (1.16.0)\n",
            "Installing collected packages: powerlaw\n",
            "Successfully installed powerlaw-1.5\n"
          ]
        }
      ]
    },
    {
      "cell_type": "code",
      "source": [
        "!pip install igraph"
      ],
      "metadata": {
        "colab": {
          "base_uri": "https://localhost:8080/"
        },
        "id": "HVA0cnpQNC15",
        "outputId": "5dabd3e8-407c-4feb-d8db-fad4f63539a2"
      },
      "execution_count": null,
      "outputs": [
        {
          "output_type": "stream",
          "name": "stdout",
          "text": [
            "Looking in indexes: https://pypi.org/simple, https://us-python.pkg.dev/colab-wheels/public/simple/\n",
            "Collecting igraph\n",
            "  Downloading igraph-0.10.4-cp39-abi3-manylinux_2_17_x86_64.manylinux2014_x86_64.whl (3.3 MB)\n",
            "\u001b[2K     \u001b[90m━━━━━━━━━━━━━━━━━━━━━━━━━━━━━━━━━━━━━━━━\u001b[0m \u001b[32m3.3/3.3 MB\u001b[0m \u001b[31m24.4 MB/s\u001b[0m eta \u001b[36m0:00:00\u001b[0m\n",
            "\u001b[?25hCollecting texttable>=1.6.2\n",
            "  Downloading texttable-1.6.7-py2.py3-none-any.whl (10 kB)\n",
            "Installing collected packages: texttable, igraph\n",
            "Successfully installed igraph-0.10.4 texttable-1.6.7\n"
          ]
        }
      ]
    },
    {
      "cell_type": "code",
      "source": [
        "!pip install dataframe_image"
      ],
      "metadata": {
        "colab": {
          "base_uri": "https://localhost:8080/"
        },
        "id": "n5J0Y9UtOzrR",
        "outputId": "43d3b986-4c57-4a66-b534-63373b617dd8"
      },
      "execution_count": null,
      "outputs": [
        {
          "output_type": "stream",
          "name": "stdout",
          "text": [
            "Looking in indexes: https://pypi.org/simple, https://us-python.pkg.dev/colab-wheels/public/simple/\n",
            "Collecting dataframe_image\n",
            "  Downloading dataframe_image-0.1.10-py3-none-any.whl (6.6 MB)\n",
            "\u001b[2K     \u001b[90m━━━━━━━━━━━━━━━━━━━━━━━━━━━━━━━━━━━━━━━━\u001b[0m \u001b[32m6.6/6.6 MB\u001b[0m \u001b[31m42.9 MB/s\u001b[0m eta \u001b[36m0:00:00\u001b[0m\n",
            "\u001b[?25hRequirement already satisfied: requests in /usr/local/lib/python3.9/dist-packages (from dataframe_image) (2.27.1)\n",
            "Requirement already satisfied: mistune in /usr/local/lib/python3.9/dist-packages (from dataframe_image) (0.8.4)\n",
            "Requirement already satisfied: packaging in /usr/local/lib/python3.9/dist-packages (from dataframe_image) (23.0)\n",
            "Requirement already satisfied: pillow in /usr/local/lib/python3.9/dist-packages (from dataframe_image) (8.4.0)\n",
            "Requirement already satisfied: pandas>=0.24 in /usr/local/lib/python3.9/dist-packages (from dataframe_image) (1.5.3)\n",
            "Requirement already satisfied: nbconvert>=5 in /usr/local/lib/python3.9/dist-packages (from dataframe_image) (6.5.4)\n",
            "Collecting aiohttp\n",
            "  Downloading aiohttp-3.8.4-cp39-cp39-manylinux_2_17_x86_64.manylinux2014_x86_64.whl (1.0 MB)\n",
            "\u001b[2K     \u001b[90m━━━━━━━━━━━━━━━━━━━━━━━━━━━━━━━━━━━━━━━━\u001b[0m \u001b[32m1.0/1.0 MB\u001b[0m \u001b[31m68.3 MB/s\u001b[0m eta \u001b[36m0:00:00\u001b[0m\n",
            "\u001b[?25hRequirement already satisfied: MarkupSafe>=2.0 in /usr/local/lib/python3.9/dist-packages (from nbconvert>=5->dataframe_image) (2.1.2)\n",
            "Requirement already satisfied: beautifulsoup4 in /usr/local/lib/python3.9/dist-packages (from nbconvert>=5->dataframe_image) (4.11.2)\n",
            "Requirement already satisfied: jinja2>=3.0 in /usr/local/lib/python3.9/dist-packages (from nbconvert>=5->dataframe_image) (3.1.2)\n",
            "Requirement already satisfied: jupyterlab-pygments in /usr/local/lib/python3.9/dist-packages (from nbconvert>=5->dataframe_image) (0.2.2)\n",
            "Requirement already satisfied: nbclient>=0.5.0 in /usr/local/lib/python3.9/dist-packages (from nbconvert>=5->dataframe_image) (0.7.3)\n",
            "Requirement already satisfied: pygments>=2.4.1 in /usr/local/lib/python3.9/dist-packages (from nbconvert>=5->dataframe_image) (2.14.0)\n",
            "Requirement already satisfied: tinycss2 in /usr/local/lib/python3.9/dist-packages (from nbconvert>=5->dataframe_image) (1.2.1)\n",
            "Requirement already satisfied: pandocfilters>=1.4.1 in /usr/local/lib/python3.9/dist-packages (from nbconvert>=5->dataframe_image) (1.5.0)\n",
            "Requirement already satisfied: traitlets>=5.0 in /usr/local/lib/python3.9/dist-packages (from nbconvert>=5->dataframe_image) (5.7.1)\n",
            "Requirement already satisfied: bleach in /usr/local/lib/python3.9/dist-packages (from nbconvert>=5->dataframe_image) (6.0.0)\n",
            "Requirement already satisfied: nbformat>=5.1 in /usr/local/lib/python3.9/dist-packages (from nbconvert>=5->dataframe_image) (5.8.0)\n",
            "Requirement already satisfied: jupyter-core>=4.7 in /usr/local/lib/python3.9/dist-packages (from nbconvert>=5->dataframe_image) (5.3.0)\n",
            "Requirement already satisfied: lxml in /usr/local/lib/python3.9/dist-packages (from nbconvert>=5->dataframe_image) (4.9.2)\n",
            "Requirement already satisfied: entrypoints>=0.2.2 in /usr/local/lib/python3.9/dist-packages (from nbconvert>=5->dataframe_image) (0.4)\n",
            "Requirement already satisfied: defusedxml in /usr/local/lib/python3.9/dist-packages (from nbconvert>=5->dataframe_image) (0.7.1)\n",
            "Requirement already satisfied: numpy>=1.20.3 in /usr/local/lib/python3.9/dist-packages (from pandas>=0.24->dataframe_image) (1.22.4)\n",
            "Requirement already satisfied: pytz>=2020.1 in /usr/local/lib/python3.9/dist-packages (from pandas>=0.24->dataframe_image) (2022.7.1)\n",
            "Requirement already satisfied: python-dateutil>=2.8.1 in /usr/local/lib/python3.9/dist-packages (from pandas>=0.24->dataframe_image) (2.8.2)\n",
            "Collecting multidict<7.0,>=4.5\n",
            "  Downloading multidict-6.0.4-cp39-cp39-manylinux_2_17_x86_64.manylinux2014_x86_64.whl (114 kB)\n",
            "\u001b[2K     \u001b[90m━━━━━━━━━━━━━━━━━━━━━━━━━━━━━━━━━━━━━━\u001b[0m \u001b[32m114.2/114.2 kB\u001b[0m \u001b[31m13.1 MB/s\u001b[0m eta \u001b[36m0:00:00\u001b[0m\n",
            "\u001b[?25hRequirement already satisfied: attrs>=17.3.0 in /usr/local/lib/python3.9/dist-packages (from aiohttp->dataframe_image) (22.2.0)\n",
            "Collecting aiosignal>=1.1.2\n",
            "  Downloading aiosignal-1.3.1-py3-none-any.whl (7.6 kB)\n",
            "Requirement already satisfied: charset-normalizer<4.0,>=2.0 in /usr/local/lib/python3.9/dist-packages (from aiohttp->dataframe_image) (2.0.12)\n",
            "Collecting yarl<2.0,>=1.0\n",
            "  Downloading yarl-1.8.2-cp39-cp39-manylinux_2_17_x86_64.manylinux2014_x86_64.whl (264 kB)\n",
            "\u001b[2K     \u001b[90m━━━━━━━━━━━━━━━━━━━━━━━━━━━━━━━━━━━━━━\u001b[0m \u001b[32m264.6/264.6 kB\u001b[0m \u001b[31m23.9 MB/s\u001b[0m eta \u001b[36m0:00:00\u001b[0m\n",
            "\u001b[?25hCollecting frozenlist>=1.1.1\n",
            "  Downloading frozenlist-1.3.3-cp39-cp39-manylinux_2_5_x86_64.manylinux1_x86_64.manylinux_2_17_x86_64.manylinux2014_x86_64.whl (158 kB)\n",
            "\u001b[2K     \u001b[90m━━━━━━━━━━━━━━━━━━━━━━━━━━━━━━━━━━━━━━\u001b[0m \u001b[32m158.8/158.8 kB\u001b[0m \u001b[31m15.8 MB/s\u001b[0m eta \u001b[36m0:00:00\u001b[0m\n",
            "\u001b[?25hCollecting async-timeout<5.0,>=4.0.0a3\n",
            "  Downloading async_timeout-4.0.2-py3-none-any.whl (5.8 kB)\n",
            "Requirement already satisfied: urllib3<1.27,>=1.21.1 in /usr/local/lib/python3.9/dist-packages (from requests->dataframe_image) (1.26.15)\n",
            "Requirement already satisfied: certifi>=2017.4.17 in /usr/local/lib/python3.9/dist-packages (from requests->dataframe_image) (2022.12.7)\n",
            "Requirement already satisfied: idna<4,>=2.5 in /usr/local/lib/python3.9/dist-packages (from requests->dataframe_image) (3.4)\n",
            "Requirement already satisfied: platformdirs>=2.5 in /usr/local/lib/python3.9/dist-packages (from jupyter-core>=4.7->nbconvert>=5->dataframe_image) (3.2.0)\n",
            "Requirement already satisfied: jupyter-client>=6.1.12 in /usr/local/lib/python3.9/dist-packages (from nbclient>=0.5.0->nbconvert>=5->dataframe_image) (6.1.12)\n",
            "Requirement already satisfied: jsonschema>=2.6 in /usr/local/lib/python3.9/dist-packages (from nbformat>=5.1->nbconvert>=5->dataframe_image) (4.3.3)\n",
            "Requirement already satisfied: fastjsonschema in /usr/local/lib/python3.9/dist-packages (from nbformat>=5.1->nbconvert>=5->dataframe_image) (2.16.3)\n",
            "Requirement already satisfied: six>=1.5 in /usr/local/lib/python3.9/dist-packages (from python-dateutil>=2.8.1->pandas>=0.24->dataframe_image) (1.16.0)\n",
            "Requirement already satisfied: soupsieve>1.2 in /usr/local/lib/python3.9/dist-packages (from beautifulsoup4->nbconvert>=5->dataframe_image) (2.4)\n",
            "Requirement already satisfied: webencodings in /usr/local/lib/python3.9/dist-packages (from bleach->nbconvert>=5->dataframe_image) (0.5.1)\n",
            "Requirement already satisfied: pyrsistent!=0.17.0,!=0.17.1,!=0.17.2,>=0.14.0 in /usr/local/lib/python3.9/dist-packages (from jsonschema>=2.6->nbformat>=5.1->nbconvert>=5->dataframe_image) (0.19.3)\n",
            "Requirement already satisfied: pyzmq>=13 in /usr/local/lib/python3.9/dist-packages (from jupyter-client>=6.1.12->nbclient>=0.5.0->nbconvert>=5->dataframe_image) (23.2.1)\n",
            "Requirement already satisfied: tornado>=4.1 in /usr/local/lib/python3.9/dist-packages (from jupyter-client>=6.1.12->nbclient>=0.5.0->nbconvert>=5->dataframe_image) (6.2)\n",
            "Installing collected packages: multidict, frozenlist, async-timeout, yarl, aiosignal, aiohttp, dataframe_image\n",
            "Successfully installed aiohttp-3.8.4 aiosignal-1.3.1 async-timeout-4.0.2 dataframe_image-0.1.10 frozenlist-1.3.3 multidict-6.0.4 yarl-1.8.2\n"
          ]
        }
      ]
    },
    {
      "cell_type": "code",
      "source": [
        "!pip uninstall pycairo\n",
        "!pip uninstall cairocffi\n",
        "!apt-get install libcairo2-dev\n",
        "!pip install pycairo\n",
        "!pip install cairocffi"
      ],
      "metadata": {
        "colab": {
          "base_uri": "https://localhost:8080/",
          "height": 1000
        },
        "id": "0F3Rs_LI5OyO",
        "outputId": "67c875bd-cb6b-4af1-e9c0-c9a90849aae2"
      },
      "execution_count": null,
      "outputs": [
        {
          "output_type": "stream",
          "name": "stdout",
          "text": [
            "\u001b[33mWARNING: Skipping pycairo as it is not installed.\u001b[0m\u001b[33m\n",
            "\u001b[0mFound existing installation: cairocffi 1.5.0\n",
            "Uninstalling cairocffi-1.5.0:\n",
            "  Would remove:\n",
            "    /usr/local/lib/python3.9/dist-packages/cairocffi-1.5.0.dist-info/*\n",
            "    /usr/local/lib/python3.9/dist-packages/cairocffi/*\n",
            "Proceed (Y/n)? Y\n",
            "  Successfully uninstalled cairocffi-1.5.0\n",
            "Reading package lists... Done\n",
            "Building dependency tree       \n",
            "Reading state information... Done\n",
            "The following additional packages will be installed:\n",
            "  libblkid-dev libcairo-script-interpreter2 libffi-dev libglib2.0-dev\n",
            "  libglib2.0-dev-bin liblzo2-2 libmount-dev libpixman-1-dev libselinux1-dev\n",
            "  libsepol1-dev libxcb-render0-dev libxcb-shm0-dev\n",
            "Suggested packages:\n",
            "  libcairo2-doc libgirepository1.0-dev libglib2.0-doc libgdk-pixbuf2.0-bin\n",
            "  | libgdk-pixbuf2.0-dev libxml2-utils\n",
            "The following NEW packages will be installed:\n",
            "  libblkid-dev libcairo-script-interpreter2 libcairo2-dev libffi-dev\n",
            "  libglib2.0-dev libglib2.0-dev-bin liblzo2-2 libmount-dev libpixman-1-dev\n",
            "  libselinux1-dev libsepol1-dev libxcb-render0-dev libxcb-shm0-dev\n",
            "0 upgraded, 13 newly installed, 0 to remove and 24 not upgraded.\n",
            "Need to get 3,492 kB of archives.\n",
            "After this operation, 20.0 MB of additional disk space will be used.\n",
            "Get:1 http://archive.ubuntu.com/ubuntu focal/main amd64 liblzo2-2 amd64 2.10-2 [50.8 kB]\n",
            "Get:2 http://archive.ubuntu.com/ubuntu focal/main amd64 libcairo-script-interpreter2 amd64 1.16.0-4ubuntu1 [54.2 kB]\n",
            "Get:3 http://archive.ubuntu.com/ubuntu focal-updates/main amd64 libpixman-1-dev amd64 0.38.4-0ubuntu2.1 [243 kB]\n",
            "Get:4 http://archive.ubuntu.com/ubuntu focal/main amd64 libxcb-render0-dev amd64 1.14-2 [18.4 kB]\n",
            "Get:5 http://archive.ubuntu.com/ubuntu focal/main amd64 libxcb-shm0-dev amd64 1.14-2 [6,716 B]\n",
            "Get:6 http://archive.ubuntu.com/ubuntu focal/main amd64 libffi-dev amd64 3.3-4 [57.0 kB]\n",
            "Get:7 http://archive.ubuntu.com/ubuntu focal-updates/main amd64 libglib2.0-dev-bin amd64 2.64.6-1~ubuntu20.04.4 [109 kB]\n",
            "Get:8 http://archive.ubuntu.com/ubuntu focal-updates/main amd64 libblkid-dev amd64 2.34-0.1ubuntu9.3 [167 kB]\n",
            "Get:9 http://archive.ubuntu.com/ubuntu focal-updates/main amd64 libmount-dev amd64 2.34-0.1ubuntu9.3 [176 kB]\n",
            "Get:10 http://archive.ubuntu.com/ubuntu focal-updates/main amd64 libsepol1-dev amd64 3.0-1ubuntu0.1 [325 kB]\n",
            "Get:11 http://archive.ubuntu.com/ubuntu focal/main amd64 libselinux1-dev amd64 3.0-1build2 [151 kB]\n",
            "Get:12 http://archive.ubuntu.com/ubuntu focal-updates/main amd64 libglib2.0-dev amd64 2.64.6-1~ubuntu20.04.4 [1,506 kB]\n",
            "Get:13 http://archive.ubuntu.com/ubuntu focal/main amd64 libcairo2-dev amd64 1.16.0-4ubuntu1 [627 kB]\n",
            "Fetched 3,492 kB in 1s (5,586 kB/s)\n",
            "Selecting previously unselected package liblzo2-2:amd64.\n",
            "(Reading database ... 122349 files and directories currently installed.)\n",
            "Preparing to unpack .../00-liblzo2-2_2.10-2_amd64.deb ...\n",
            "Unpacking liblzo2-2:amd64 (2.10-2) ...\n",
            "Selecting previously unselected package libcairo-script-interpreter2:amd64.\n",
            "Preparing to unpack .../01-libcairo-script-interpreter2_1.16.0-4ubuntu1_amd64.deb ...\n",
            "Unpacking libcairo-script-interpreter2:amd64 (1.16.0-4ubuntu1) ...\n",
            "Selecting previously unselected package libpixman-1-dev:amd64.\n",
            "Preparing to unpack .../02-libpixman-1-dev_0.38.4-0ubuntu2.1_amd64.deb ...\n",
            "Unpacking libpixman-1-dev:amd64 (0.38.4-0ubuntu2.1) ...\n",
            "Selecting previously unselected package libxcb-render0-dev:amd64.\n",
            "Preparing to unpack .../03-libxcb-render0-dev_1.14-2_amd64.deb ...\n",
            "Unpacking libxcb-render0-dev:amd64 (1.14-2) ...\n",
            "Selecting previously unselected package libxcb-shm0-dev:amd64.\n",
            "Preparing to unpack .../04-libxcb-shm0-dev_1.14-2_amd64.deb ...\n",
            "Unpacking libxcb-shm0-dev:amd64 (1.14-2) ...\n",
            "Selecting previously unselected package libffi-dev:amd64.\n",
            "Preparing to unpack .../05-libffi-dev_3.3-4_amd64.deb ...\n",
            "Unpacking libffi-dev:amd64 (3.3-4) ...\n",
            "Selecting previously unselected package libglib2.0-dev-bin.\n",
            "Preparing to unpack .../06-libglib2.0-dev-bin_2.64.6-1~ubuntu20.04.4_amd64.deb ...\n",
            "Unpacking libglib2.0-dev-bin (2.64.6-1~ubuntu20.04.4) ...\n",
            "Selecting previously unselected package libblkid-dev:amd64.\n",
            "Preparing to unpack .../07-libblkid-dev_2.34-0.1ubuntu9.3_amd64.deb ...\n",
            "Unpacking libblkid-dev:amd64 (2.34-0.1ubuntu9.3) ...\n",
            "Selecting previously unselected package libmount-dev:amd64.\n",
            "Preparing to unpack .../08-libmount-dev_2.34-0.1ubuntu9.3_amd64.deb ...\n",
            "Unpacking libmount-dev:amd64 (2.34-0.1ubuntu9.3) ...\n",
            "Selecting previously unselected package libsepol1-dev:amd64.\n",
            "Preparing to unpack .../09-libsepol1-dev_3.0-1ubuntu0.1_amd64.deb ...\n",
            "Unpacking libsepol1-dev:amd64 (3.0-1ubuntu0.1) ...\n",
            "Selecting previously unselected package libselinux1-dev:amd64.\n",
            "Preparing to unpack .../10-libselinux1-dev_3.0-1build2_amd64.deb ...\n",
            "Unpacking libselinux1-dev:amd64 (3.0-1build2) ...\n",
            "Selecting previously unselected package libglib2.0-dev:amd64.\n",
            "Preparing to unpack .../11-libglib2.0-dev_2.64.6-1~ubuntu20.04.4_amd64.deb ...\n",
            "Unpacking libglib2.0-dev:amd64 (2.64.6-1~ubuntu20.04.4) ...\n",
            "Selecting previously unselected package libcairo2-dev:amd64.\n",
            "Preparing to unpack .../12-libcairo2-dev_1.16.0-4ubuntu1_amd64.deb ...\n",
            "Unpacking libcairo2-dev:amd64 (1.16.0-4ubuntu1) ...\n",
            "Setting up libglib2.0-dev-bin (2.64.6-1~ubuntu20.04.4) ...\n",
            "Setting up libblkid-dev:amd64 (2.34-0.1ubuntu9.3) ...\n",
            "Setting up libpixman-1-dev:amd64 (0.38.4-0ubuntu2.1) ...\n",
            "Setting up libsepol1-dev:amd64 (3.0-1ubuntu0.1) ...\n",
            "Setting up liblzo2-2:amd64 (2.10-2) ...\n",
            "Setting up libffi-dev:amd64 (3.3-4) ...\n",
            "Setting up libxcb-shm0-dev:amd64 (1.14-2) ...\n",
            "Setting up libxcb-render0-dev:amd64 (1.14-2) ...\n",
            "Setting up libmount-dev:amd64 (2.34-0.1ubuntu9.3) ...\n",
            "Setting up libcairo-script-interpreter2:amd64 (1.16.0-4ubuntu1) ...\n",
            "Setting up libselinux1-dev:amd64 (3.0-1build2) ...\n",
            "Setting up libglib2.0-dev:amd64 (2.64.6-1~ubuntu20.04.4) ...\n",
            "Processing triggers for libglib2.0-0:amd64 (2.64.6-1~ubuntu20.04.4) ...\n",
            "Processing triggers for libc-bin (2.31-0ubuntu9.9) ...\n",
            "Processing triggers for man-db (2.9.1-1) ...\n",
            "Setting up libcairo2-dev:amd64 (1.16.0-4ubuntu1) ...\n",
            "Looking in indexes: https://pypi.org/simple, https://us-python.pkg.dev/colab-wheels/public/simple/\n",
            "Collecting pycairo\n",
            "  Using cached pycairo-1.23.0.tar.gz (344 kB)\n",
            "  Installing build dependencies ... \u001b[?25l\u001b[?25hdone\n",
            "  Getting requirements to build wheel ... \u001b[?25l\u001b[?25hdone\n",
            "  Installing backend dependencies ... \u001b[?25l\u001b[?25hdone\n",
            "  Preparing metadata (pyproject.toml) ... \u001b[?25l\u001b[?25hdone\n",
            "Building wheels for collected packages: pycairo\n",
            "  Building wheel for pycairo (pyproject.toml) ... \u001b[?25l\u001b[?25hdone\n",
            "  Created wheel for pycairo: filename=pycairo-1.23.0-cp39-cp39-linux_x86_64.whl size=326964 sha256=5811440540dbf0c50458bd29c380238dd1a19bebe00eec0d9641015ea0768fa1\n",
            "  Stored in directory: /root/.cache/pip/wheels/7e/33/44/ed63d7850b41775b9c99e2677fe7cc4c6afd3b3eb767be75e7\n",
            "Successfully built pycairo\n",
            "Installing collected packages: pycairo\n",
            "Successfully installed pycairo-1.23.0\n",
            "Looking in indexes: https://pypi.org/simple, https://us-python.pkg.dev/colab-wheels/public/simple/\n",
            "Collecting cairocffi\n",
            "  Using cached cairocffi-1.5.0-py3-none-any.whl\n",
            "Requirement already satisfied: cffi>=1.1.0 in /usr/local/lib/python3.9/dist-packages (from cairocffi) (1.15.1)\n",
            "Requirement already satisfied: pycparser in /usr/local/lib/python3.9/dist-packages (from cffi>=1.1.0->cairocffi) (2.21)\n",
            "Installing collected packages: cairocffi\n",
            "Successfully installed cairocffi-1.5.0\n"
          ]
        },
        {
          "output_type": "display_data",
          "data": {
            "application/vnd.colab-display-data+json": {
              "pip_warning": {
                "packages": [
                  "cairocffi"
                ]
              }
            }
          },
          "metadata": {}
        }
      ]
    },
    {
      "cell_type": "markdown",
      "source": [
        "##Importing all the libraries ✅"
      ],
      "metadata": {
        "id": "CBHXiRz9VsJd"
      }
    },
    {
      "cell_type": "code",
      "execution_count": null,
      "metadata": {
        "id": "G1KYSC0nDgSZ"
      },
      "outputs": [],
      "source": [
        "import pandas as pd\n",
        "import igraph as ig\n",
        "import matplotlib.pyplot as plt\n",
        "from matplotlib import gridspec\n",
        "import networkx as nx\n",
        "import os\n",
        "import dataframe_image as dfi\n",
        "from copy import deepcopy\n",
        "from math import log\n",
        "from community import community_louvain\n",
        "\n",
        "from sklearn import metrics\n",
        "from sklearn.metrics.cluster import contingency_matrix, pair_confusion_matrix\n",
        "\n",
        "from networkx.algorithms import community\n",
        "import networkx.algorithms.community as nx_comm\n",
        "\n",
        "from collections import defaultdict\n",
        "\n",
        "\n",
        "%matplotlib inline"
      ]
    },
    {
      "cell_type": "code",
      "source": [
        "from igraph import InternalError"
      ],
      "metadata": {
        "id": "s_u_C_Yuygpa"
      },
      "execution_count": null,
      "outputs": []
    },
    {
      "cell_type": "code",
      "source": [
        "from google.colab import drive\n",
        "drive.mount('/content/drive')\n"
      ],
      "metadata": {
        "colab": {
          "base_uri": "https://localhost:8080/"
        },
        "id": "qbD8BksIPJax",
        "outputId": "363737dd-403c-466c-84d9-c7f64a24201e"
      },
      "execution_count": null,
      "outputs": [
        {
          "output_type": "stream",
          "name": "stdout",
          "text": [
            "Mounted at /content/drive\n"
          ]
        }
      ]
    },
    {
      "cell_type": "markdown",
      "source": [
        "##Developing the functions to read the files ✅"
      ],
      "metadata": {
        "id": "qAlXqjwXIoMH"
      }
    },
    {
      "cell_type": "markdown",
      "source": [
        "A file in \".clu\" format can be read in using the function read_clu, which will then return its content as either a membership list or a clusters list. The desired output type and the file path are the input parameters. \n",
        "\n",
        "The first thing the function does is open the file at the specified directory and read in all of its lines. It is expected that the file's content is in the right format. The function then verifies the chosen output type and, depending on the desired output, either calls membership_list() or clusters_list().\n",
        "\n",
        "If \"membership\" is selected as the output type, membership_list() is invoked, which transforms the file content into a list of numbers, where each integer denotes a node's cluster membership. When \"clusters\" is selected as the output type, the file's content is transformed into a list of lists, where each inner list represents a cluster and contains the node ids for that cluster. The function then returns the outcome of invoking the proper conversion function.\n",
        "\n",
        "\n",
        "\n",
        "\n",
        "\n",
        "\n"
      ],
      "metadata": {
        "id": "dn-OfSgDHBzG"
      }
    },
    {
      "cell_type": "code",
      "source": [
        "def read_clu(path, output_type):\n",
        "    with open(path, 'r') as f:\n",
        "        lines = f.readlines() \n",
        "        \n",
        "    if output_type == 'membership':\n",
        "        return membership_list(lines)\n",
        "    \n",
        "    if output_type == 'clusters':\n",
        "        return clusters_list(lines)"
      ],
      "metadata": {
        "id": "nzky5tujG5zE"
      },
      "execution_count": null,
      "outputs": []
    },
    {
      "cell_type": "code",
      "source": [
        "def membership_list(lines):\n",
        "\n",
        "    membership_list=[]\n",
        "    \n",
        "    if isinstance(lines, str): \n",
        "        lines = iter(lines.split('\\n'))\n",
        "    lines = iter([line.rstrip('\\n') for line in lines]) \n",
        "    \n",
        "    while lines: \n",
        "        try:\n",
        "            l = next(lines)\n",
        "        except: \n",
        "            break\n",
        "        if l.lower().startswith(\"*vertices\"):\n",
        "            l, nnodes = l.split()\n",
        "            for vertice in range(int(nnodes)):\n",
        "                l = next(lines)\n",
        "                membership_list.append(int(l))\n",
        "        else:\n",
        "            break\n",
        "            \n",
        "    return membership_list"
      ],
      "metadata": {
        "id": "MMhYp531O7TM"
      },
      "execution_count": null,
      "outputs": []
    },
    {
      "cell_type": "code",
      "source": [
        "def clusters_list(lines):\n",
        "    \n",
        "    if isinstance(lines, str):\n",
        "        lines = iter(lines.split('\\n'))\n",
        "    lines = iter([line.rstrip('\\n') for line in lines])\n",
        "    \n",
        "    while lines:\n",
        "        try:\n",
        "            l = next(lines)\n",
        "        except: \n",
        "            break\n",
        "        if l.lower().startswith(\"*vertices\"):\n",
        "            l, nnodes = l.split()\n",
        "            communities = defaultdict(list) \n",
        "            for vertice in range(int(nnodes)): \n",
        "                l = next(lines)\n",
        "                community = int(l)\n",
        "                communities.setdefault(community, []).append(vertice) \n",
        "        else:\n",
        "            break\n",
        "            \n",
        "    return [ set(v) for k,v in dict(communities).items() ] "
      ],
      "metadata": {
        "id": "AhS2coNpJAfT"
      },
      "execution_count": null,
      "outputs": []
    },
    {
      "cell_type": "markdown",
      "source": [
        "###Trying with exemples to see the reslts of or fciots  "
      ],
      "metadata": {
        "id": "9xGhrPHSQWVB"
      }
    },
    {
      "cell_type": "code",
      "source": [
        "with open('/content/drive/MyDrive/A3-networks/toy/graph4+4.clu', 'r') as f:\n",
        "        lines = f.readlines() \n",
        "print(lines)"
      ],
      "metadata": {
        "colab": {
          "base_uri": "https://localhost:8080/"
        },
        "id": "uqpUoWF3O-2A",
        "outputId": "03628e88-1c16-40d3-90a9-0cf45ffd2f9b"
      },
      "execution_count": null,
      "outputs": [
        {
          "output_type": "stream",
          "name": "stdout",
          "text": [
            "['*Vertices 8\\n', '1\\n', '1\\n', '1\\n', '1\\n', '2\\n', '2\\n', '2\\n', '2\\n']\n"
          ]
        }
      ]
    },
    {
      "cell_type": "code",
      "source": [
        "with open('/content/drive/MyDrive/A3-networks/real/cat_cortex_sim.clu', 'r') as f:\n",
        "        lines = f.readlines() \n",
        "print(lines)"
      ],
      "metadata": {
        "colab": {
          "base_uri": "https://localhost:8080/"
        },
        "id": "Y9UjDsdjOje8",
        "outputId": "81bbdfd1-a2c1-40e8-abe2-54615bf2e34e"
      },
      "execution_count": null,
      "outputs": [
        {
          "output_type": "stream",
          "name": "stdout",
          "text": [
            "['*Vertices      55\\n', '1\\n', '1\\n', '1\\n', '1\\n', '1\\n', '1\\n', '1\\n', '1\\n', '1\\n', '1\\n', '1\\n', '1\\n', '1\\n', '1\\n', '1\\n', '1\\n', '2\\n', '2\\n', '2\\n', '2\\n', '2\\n', '2\\n', '2\\n', '3\\n', '3\\n', '3\\n', '3\\n', '3\\n', '3\\n', '3\\n', '3\\n', '3\\n', '3\\n', '3\\n', '3\\n', '3\\n', '3\\n', '3\\n', '3\\n', '3\\n', '4\\n', '4\\n', '4\\n', '4\\n', '4\\n', '4\\n', '4\\n', '4\\n', '4\\n', '4\\n', '4\\n', '4\\n', '4\\n', '4\\n', '4\\n']\n"
          ]
        }
      ]
    },
    {
      "cell_type": "code",
      "source": [
        "with open('/content/drive/MyDrive/A3-networks/real/dolphins-real.clu', 'r') as f:\n",
        "        lines = f.readlines() \n",
        "print(lines)"
      ],
      "metadata": {
        "colab": {
          "base_uri": "https://localhost:8080/"
        },
        "id": "2WBLcplrOkG-",
        "outputId": "28a875fc-75ed-46e2-c48f-031fd7b67b29"
      },
      "execution_count": null,
      "outputs": [
        {
          "output_type": "stream",
          "name": "stdout",
          "text": [
            "['*Vertices 62\\n', '1\\n', '2\\n', '1\\n', '1\\n', '1\\n', '2\\n', '2\\n', '2\\n', '1\\n', '2\\n', '1\\n', '1\\n', '1\\n', '2\\n', '1\\n', '1\\n', '1\\n', '2\\n', '1\\n', '2\\n', '1\\n', '1\\n', '2\\n', '1\\n', '1\\n', '2\\n', '2\\n', '2\\n', '1\\n', '1\\n', '1\\n', '2\\n', '2\\n', '1\\n', '1\\n', '1\\n', '1\\n', '1\\n', '1\\n', '1\\n', '1\\n', '2\\n', '1\\n', '1\\n', '1\\n', '1\\n', '1\\n', '1\\n', '2\\n', '1\\n', '1\\n', '1\\n', '1\\n', '1\\n', '2\\n', '1\\n', '2\\n', '2\\n', '1\\n', '1\\n', '2\\n', '1\\n']\n"
          ]
        }
      ]
    },
    {
      "cell_type": "markdown",
      "source": [
        "In the following function, we first initialize an empty list to hold membership values. Then we convert each set in the input list into a sorted list. We, then, iterate over each cluster in the sorted list and iterate over each node in the cluster to be able to append the index of the current cluster to the membership list for each node in the cluster. Finally, after the loops, we return the final membership list. "
      ],
      "metadata": {
        "id": "UseP8wwbRF5h"
      }
    },
    {
      "cell_type": "code",
      "source": [
        "def clusters_to_membership(c):     \n",
        "    membership_list=[]\n",
        "    n=0\n",
        "    clusters=[sorted(list(s)) for s in c]\n",
        "    for i,cluster in enumerate(clusters): \n",
        "        for node in range(len(cluster)):\n",
        "            membership_list.append(i) \n",
        "    return membership_list"
      ],
      "metadata": {
        "id": "gRPDK6AjVcRa"
      },
      "execution_count": null,
      "outputs": []
    },
    {
      "cell_type": "markdown",
      "source": [
        "The following code will help us to create a .clu file that contains a collection of nodes' membership information to be able to use them after all for visualisation and analysis.\n"
      ],
      "metadata": {
        "id": "lqyoAtn8R8IB"
      }
    },
    {
      "cell_type": "code",
      "source": [
        "def write_clu(membership_list,name):\n",
        "    textfile = open('/content/drive/MyDrive/clu/'+name+'.clu', \"w\")\n",
        "    textfile.write('*Vertices {} \\n'.format(len(membership_list)))\n",
        "    for element in membership_list:\n",
        "        textfile.write(str(element) + \"\\n\")\n",
        "    textfile.close()"
      ],
      "metadata": {
        "id": "L5iQkxWzOGKk"
      },
      "execution_count": null,
      "outputs": []
    },
    {
      "cell_type": "markdown",
      "source": [
        "After defining the previous functions, we are able to develop the following part. In fact, this part will be used to set up and fill data structures that will hold network and membership information for the later analysis we will conduct. \n"
      ],
      "metadata": {
        "id": "80pwIZLnSk3m"
      }
    },
    {
      "cell_type": "markdown",
      "source": [
        "The network and membership data are stored in a folder, and its path is specified by the nets_folder_path variable. The os.scandir() function is then used by the code to scan the directory and retrieve a list of all of its contents, including any subfolders.\n",
        "\n",
        "The for loop repeatedly goes through each of the directory's subfolders. The os.listdir() function is then used to get a list of files included in each subfolder. The process then loops over the list of files, treating any with a.net extension as network files. The network object that is produced is then placed in the nx_nets and ig_nets dictionaries with the file name (without the extension) serving as the key.\n",
        "\n",
        "The file is considered as a membership file if its extension is.clu. So it adds the file name (without the extension) to the list of clu_names and then uses a special read_clu() function to read the membership information. With the file name as the key, the membership data is kept in the clu dictionary while the cluster data is kept in the clu_clusters dictionary."
      ],
      "metadata": {
        "id": "V3WsG8-ZTJCT"
      }
    },
    {
      "cell_type": "code",
      "source": [
        "nx_nets = {}\n",
        "ig_nets = {} \n",
        "clu = {}\n",
        "clu_clusters = {}\n",
        "clu_names=[]\n",
        "\n",
        "nets_folder_path=\"/content/drive/MyDrive/A3-networks/\"\n",
        "with os.scandir(nets_folder_path) as folders_list:\n",
        "    for folder in folders_list:\n",
        "        if folder.is_dir():\n",
        "            networks = os.listdir(nets_folder_path+folder.name)\n",
        "            for net in networks:\n",
        "                if net.endswith(\".net\"):\n",
        "                    file=nets_folder_path+folder.name+'/'+net\n",
        "                    nx_nets[('{}'.format(net[:-4]))] = nx.Graph(nx.read_pajek(file))\n",
        "                    ig_nets[('{}'.format(net[:-4]))] = ig.read(file,format=\"pajek\").simplify()\n",
        "                elif net.endswith(\".clu\"):\n",
        "                    clu_names.append(net[:-4])\n",
        "                    file=nets_folder_path+folder.name+'/'+net\n",
        "                    clu[('{}'.format(net[:-4]))] = read_clu(file, 'membership')\n",
        "                    clu_clusters[('{}'.format(net[:-4]))] = read_clu(file, 'clusters')"
      ],
      "metadata": {
        "id": "rcsMQ6jcVn0y"
      },
      "execution_count": null,
      "outputs": []
    },
    {
      "cell_type": "code",
      "source": [
        "clu_to_nets={'graph3+1+3': 'graph3+1+3',\n",
        "             '20x2+5x2': '20x2+5x2',\n",
        "             'graph4+4': 'graph4+4',\n",
        "             'star': 'star',\n",
        "             'cat_cortex_sim': 'cat_cortex_sim',\n",
        "             'zachary_unwh-real': 'zachary_unwh',\n",
        "             'dolphins-real': 'dolphins',\n",
        "             'football-conferences': 'football',\n",
        "             '256_4_4_4_13_18_p': '256_4_4_4_13_18_p',\n",
        "             'rb125-1': 'rb125',\n",
        "             'rb125-2': 'rb125',\n",
        "             'rb125-3': 'rb125',\n",
        "             '256_4_4_2_15_18_p': '256_4_4_2_15_18_p'}"
      ],
      "metadata": {
        "id": "8YpIj1MnX7mH"
      },
      "execution_count": null,
      "outputs": []
    },
    {
      "cell_type": "markdown",
      "source": [
        "##Developing the functions for the community detection ✅\n",
        "\n",
        "Algorithms used: Fast Greedy, Optimal Modularity, Leading Eigenvector, Louvain and Label Propagation "
      ],
      "metadata": {
        "id": "c9l5FtSAJNCa"
      }
    },
    {
      "cell_type": "code",
      "source": [
        "def comm_fastgreedy(name):\n",
        "    f=deepcopy(ig_nets[name])\n",
        "    v=f.community_fastgreedy()\n",
        "    clusters = v.as_clustering()\n",
        "    return clusters\n",
        "\n",
        "def comm_optimal_modularity(name):\n",
        "    f=deepcopy(ig_nets[name])\n",
        "    v=f.community_optimal_modularity()\n",
        "    return v\n",
        "\n",
        "def comm_leading_eigenvector(name):\n",
        "    f=deepcopy(ig_nets[name])\n",
        "    v=f.community_leading_eigenvector()\n",
        "    return v\n",
        "\n",
        "def comm_louvain(name):\n",
        "    f = deepcopy(ig_nets[name])\n",
        "    v = f.community_multilevel()\n",
        "    return v\n",
        "\n",
        "def comm_label_propagation(name):\n",
        "    f=deepcopy(ig_nets[name])\n",
        "    v=f.community_label_propagation()\n",
        "    return v\n"
      ],
      "metadata": {
        "id": "FQGLdto-X8o5"
      },
      "execution_count": null,
      "outputs": []
    },
    {
      "cell_type": "markdown",
      "source": [
        "##Developing the functions for the comparaison (Jaccard, Normalized Mutual Information and Normalized Variation of Information) ✅\n"
      ],
      "metadata": {
        "id": "TySkrCOYUnAT"
      }
    },
    {
      "cell_type": "code",
      "source": [
        "def jaccard_index(C1,C2):\n",
        "    C=pair_confusion_matrix(C1,C2)\n",
        "    den=(C[1,1]+C[1,0]+C[0,1])\n",
        "    if den==0:\n",
        "        return 'inf'\n",
        "    index=C[1,1]/den\n",
        "    return index"
      ],
      "metadata": {
        "id": "yiLSZ9nsYEz-"
      },
      "execution_count": null,
      "outputs": []
    },
    {
      "cell_type": "code",
      "source": [
        "def normalized_vi(C1, C2):\n",
        "    X=list(ig.Clustering(C1))\n",
        "    Y=list(ig.Clustering(C2))\n",
        "    n = float(sum([len(x) for x in X]))\n",
        "    S = 0.0\n",
        "    for x in X:\n",
        "        p = len(x) / n\n",
        "        for y in Y:\n",
        "            q = len(y) / n\n",
        "            r = len(set(x) & set(y)) / n\n",
        "            if r>0.0:\n",
        "                S += r * (log(r / p, 2) + log(r / q, 2))\n",
        "    return abs(S)/log(n)"
      ],
      "metadata": {
        "id": "WqPCT1K9VJAm"
      },
      "execution_count": null,
      "outputs": []
    },
    {
      "cell_type": "markdown",
      "source": [
        "Developing the functions to be used in the comparison part using igraph."
      ],
      "metadata": {
        "id": "LbPsYbyifnGb"
      }
    },
    {
      "cell_type": "code",
      "source": [
        "def fastgreedy(labels_true, name):\n",
        "    labels_pred=comm_fastgreedy(name).membership\n",
        "    write_clu(labels_pred,name+'-fastgreedy')\n",
        "    return ['fastgreedy', \n",
        "            jaccard_index(labels_true,labels_pred),\n",
        "            ig.compare_communities(labels_true,labels_pred, method='nmi'),\n",
        "            normalized_vi(labels_true,labels_pred)]\n",
        "\n",
        "def optimal_modularity(labels_true, name):\n",
        "    labels_pred=comm_optimal_modularity(name).membership\n",
        "    write_clu(labels_pred,name+'-optimal_modularity')\n",
        "    return ['optimal_modularity', \n",
        "            jaccard_index(labels_true,labels_pred),\n",
        "            ig.compare_communities(labels_true,labels_pred, method='nmi'),\n",
        "            normalized_vi(labels_true,labels_pred)]\n",
        "\n",
        "def leading_eigenvector(labels_true, name):\n",
        "    labels_pred=comm_leading_eigenvector(name).membership\n",
        "    write_clu(labels_pred,name+'-lead_eig')\n",
        "    return ['leading_eigenvector', \n",
        "            jaccard_index(labels_true,labels_pred),\n",
        "            ig.compare_communities(labels_true,labels_pred, method='nmi'),\n",
        "            normalized_vi(labels_true,labels_pred)]\n",
        "\n",
        "def label_prop(labels_true, name):\n",
        "    labels_pred= comm_label_propagation(name).membership\n",
        "    write_clu(labels_pred,name+'-label_prop')\n",
        "    return ['label_propagation', \n",
        "            jaccard_index(labels_true,labels_pred),\n",
        "            ig.compare_communities(labels_true,labels_pred, method='nmi'),\n",
        "            normalized_vi(labels_true,labels_pred)]\n",
        "\n",
        "def louvain(labels_true, name):\n",
        "    labels_pred=comm_louvain(name).membership\n",
        "    write_clu(labels_pred,name+'-louvain')\n",
        "    return ['louvain', \n",
        "            jaccard_index(labels_true,labels_pred),\n",
        "            ig.compare_communities(labels_true,labels_pred, method='nmi'),\n",
        "            normalized_vi(labels_true,labels_pred)]"
      ],
      "metadata": {
        "id": "kY4vSL7_wCnN"
      },
      "execution_count": null,
      "outputs": []
    },
    {
      "cell_type": "markdown",
      "source": [
        "Developing the functions to be used in the comparison part using networkx."
      ],
      "metadata": {
        "id": "ux6UXQ8Wft81"
      }
    },
    {
      "cell_type": "code",
      "source": [
        "from networkx.algorithms.community import greedy_modularity_communities, k_clique_communities, label_propagation_communities\n",
        "\n",
        "def greedy_mod_nx(labels_true, name):\n",
        "    c = greedy_modularity_communities(nx_nets[name])\n",
        "    labels_pred=clusters_to_membership(c)\n",
        "    write_clu(labels_pred,'nx_'+name+'-greedy_mod')\n",
        "    return ['greedy_modularity', \n",
        "            jaccard_index(labels_true,labels_pred),\n",
        "            metrics.normalized_mutual_info_score(labels_true, labels_pred),\n",
        "            normalized_vi(labels_true, labels_pred)]\n",
        "\n",
        "def k_clique_nx(labels_true, name, k):\n",
        "   c=k_clique_communities(nx_nets[name], k)\n",
        "   labels_pred=clusters_to_membership(c)\n",
        "   write_clu(labels_pred,'nx_'+name+'-k_clique')\n",
        "   return ['k-clique', \n",
        "           jaccard_index(labels_true,labels_pred),\n",
        "           metrics.normalized_mutual_info_score(labels_true, labels_pred),\n",
        "           normalized_vi(labels_true, labels_pred)]\n",
        "\n",
        "def label_prop_nx(labels_true, name):\n",
        "    c=label_propagation_communities(nx_nets[name])\n",
        "    labels_pred=clusters_to_membership(c)\n",
        "    write_clu(labels_pred,'nx_'+name+'-label_prop')\n",
        "    return ['label_propagation', \n",
        "            jaccard_index(labels_true,labels_pred),\n",
        "            metrics.normalized_mutual_info_score(labels_true, labels_pred),\n",
        "            normalized_vi(labels_true, labels_pred)]\n",
        "\n",
        "def louvain_nx(labels_true, name):\n",
        "    partition = community_louvain.best_partition(nx_nets[name])\n",
        "    labels_pred = [partition[node] for node in nx_nets[name].nodes()]\n",
        "    write_clu(labels_pred,'nx_'+name+'-louvain')\n",
        "    return ['louvain', \n",
        "            jaccard_index(labels_true, labels_pred),\n",
        "            metrics.normalized_mutual_info_score(labels_true, labels_pred),\n",
        "            normalized_vi(labels_true, labels_pred)]\n"
      ],
      "metadata": {
        "id": "dMYUWKyU3rVi"
      },
      "execution_count": null,
      "outputs": []
    },
    {
      "cell_type": "markdown",
      "source": [
        "##Modularity Score for the networks and plotting the results for the different partitions. ✅"
      ],
      "metadata": {
        "id": "FI3LHR5Ue1TI"
      }
    },
    {
      "cell_type": "markdown",
      "source": [
        "Now it's time to calculate the modularity scores for the networks in ig_nets using the three different community detection algorithms: Fast Greedy, Louvain, and Label Propagation. We didnt use the Leiden eigenvector one since we had to reduce the nodes to find the result."
      ],
      "metadata": {
        "id": "KdzZ5iZHX3Yn"
      }
    },
    {
      "cell_type": "code",
      "source": [
        "modularity_nets = pd.DataFrame(columns=('fastgreedy', 'louvain', 'label_prop'))\n",
        "for name in ig_nets:\n",
        "    modularity_nets.loc[name] = [comm_fastgreedy(name).modularity, \n",
        "                                  comm_louvain(name).modularity,\n",
        "                                  comm_label_propagation(name).modularity]"
      ],
      "metadata": {
        "id": "cMA6iZv22Pp_"
      },
      "execution_count": null,
      "outputs": []
    },
    {
      "cell_type": "code",
      "source": [
        "modularity_nets"
      ],
      "metadata": {
        "colab": {
          "base_uri": "https://localhost:8080/",
          "height": 457
        },
        "id": "yktRVzhQ2XJH",
        "outputId": "7b330975-0739-4fb5-ab3e-871e53a8c77e"
      },
      "execution_count": null,
      "outputs": [
        {
          "output_type": "execute_result",
          "data": {
            "text/plain": [
              "                   fastgreedy   louvain  label_prop\n",
              "rb125                0.608733  0.608733    0.525830\n",
              "256_4_4_4_13_18_p    0.696773  0.696773    0.663378\n",
              "256_4_4_2_15_18_p    0.765660  0.781804    0.781804\n",
              "zachary_unwh         0.380671  0.398176    0.132807\n",
              "football             0.549741  0.604407    0.589858\n",
              "dolphins             0.495491  0.523338    0.426526\n",
              "cat_cortex_sim       0.260436  0.266097    0.000000\n",
              "airports_UW          0.662490  0.699136    0.627621\n",
              "grid-p-6x6           0.401235  0.416667    0.333333\n",
              "graph4+4             0.423077  0.423077    0.423077\n",
              "star                 0.000000  0.000000    0.000000\n",
              "graph3+1+3           0.367188  0.367188    0.367188\n",
              "20x2+5x2             0.542579  0.542579    0.541586"
            ],
            "text/html": [
              "\n",
              "  <div id=\"df-f5de0540-e399-46a5-bc46-a1bde6df3fb2\">\n",
              "    <div class=\"colab-df-container\">\n",
              "      <div>\n",
              "<style scoped>\n",
              "    .dataframe tbody tr th:only-of-type {\n",
              "        vertical-align: middle;\n",
              "    }\n",
              "\n",
              "    .dataframe tbody tr th {\n",
              "        vertical-align: top;\n",
              "    }\n",
              "\n",
              "    .dataframe thead th {\n",
              "        text-align: right;\n",
              "    }\n",
              "</style>\n",
              "<table border=\"1\" class=\"dataframe\">\n",
              "  <thead>\n",
              "    <tr style=\"text-align: right;\">\n",
              "      <th></th>\n",
              "      <th>fastgreedy</th>\n",
              "      <th>louvain</th>\n",
              "      <th>label_prop</th>\n",
              "    </tr>\n",
              "  </thead>\n",
              "  <tbody>\n",
              "    <tr>\n",
              "      <th>rb125</th>\n",
              "      <td>0.608733</td>\n",
              "      <td>0.608733</td>\n",
              "      <td>0.525830</td>\n",
              "    </tr>\n",
              "    <tr>\n",
              "      <th>256_4_4_4_13_18_p</th>\n",
              "      <td>0.696773</td>\n",
              "      <td>0.696773</td>\n",
              "      <td>0.663378</td>\n",
              "    </tr>\n",
              "    <tr>\n",
              "      <th>256_4_4_2_15_18_p</th>\n",
              "      <td>0.765660</td>\n",
              "      <td>0.781804</td>\n",
              "      <td>0.781804</td>\n",
              "    </tr>\n",
              "    <tr>\n",
              "      <th>zachary_unwh</th>\n",
              "      <td>0.380671</td>\n",
              "      <td>0.398176</td>\n",
              "      <td>0.132807</td>\n",
              "    </tr>\n",
              "    <tr>\n",
              "      <th>football</th>\n",
              "      <td>0.549741</td>\n",
              "      <td>0.604407</td>\n",
              "      <td>0.589858</td>\n",
              "    </tr>\n",
              "    <tr>\n",
              "      <th>dolphins</th>\n",
              "      <td>0.495491</td>\n",
              "      <td>0.523338</td>\n",
              "      <td>0.426526</td>\n",
              "    </tr>\n",
              "    <tr>\n",
              "      <th>cat_cortex_sim</th>\n",
              "      <td>0.260436</td>\n",
              "      <td>0.266097</td>\n",
              "      <td>0.000000</td>\n",
              "    </tr>\n",
              "    <tr>\n",
              "      <th>airports_UW</th>\n",
              "      <td>0.662490</td>\n",
              "      <td>0.699136</td>\n",
              "      <td>0.627621</td>\n",
              "    </tr>\n",
              "    <tr>\n",
              "      <th>grid-p-6x6</th>\n",
              "      <td>0.401235</td>\n",
              "      <td>0.416667</td>\n",
              "      <td>0.333333</td>\n",
              "    </tr>\n",
              "    <tr>\n",
              "      <th>graph4+4</th>\n",
              "      <td>0.423077</td>\n",
              "      <td>0.423077</td>\n",
              "      <td>0.423077</td>\n",
              "    </tr>\n",
              "    <tr>\n",
              "      <th>star</th>\n",
              "      <td>0.000000</td>\n",
              "      <td>0.000000</td>\n",
              "      <td>0.000000</td>\n",
              "    </tr>\n",
              "    <tr>\n",
              "      <th>graph3+1+3</th>\n",
              "      <td>0.367188</td>\n",
              "      <td>0.367188</td>\n",
              "      <td>0.367188</td>\n",
              "    </tr>\n",
              "    <tr>\n",
              "      <th>20x2+5x2</th>\n",
              "      <td>0.542579</td>\n",
              "      <td>0.542579</td>\n",
              "      <td>0.541586</td>\n",
              "    </tr>\n",
              "  </tbody>\n",
              "</table>\n",
              "</div>\n",
              "      <button class=\"colab-df-convert\" onclick=\"convertToInteractive('df-f5de0540-e399-46a5-bc46-a1bde6df3fb2')\"\n",
              "              title=\"Convert this dataframe to an interactive table.\"\n",
              "              style=\"display:none;\">\n",
              "        \n",
              "  <svg xmlns=\"http://www.w3.org/2000/svg\" height=\"24px\"viewBox=\"0 0 24 24\"\n",
              "       width=\"24px\">\n",
              "    <path d=\"M0 0h24v24H0V0z\" fill=\"none\"/>\n",
              "    <path d=\"M18.56 5.44l.94 2.06.94-2.06 2.06-.94-2.06-.94-.94-2.06-.94 2.06-2.06.94zm-11 1L8.5 8.5l.94-2.06 2.06-.94-2.06-.94L8.5 2.5l-.94 2.06-2.06.94zm10 10l.94 2.06.94-2.06 2.06-.94-2.06-.94-.94-2.06-.94 2.06-2.06.94z\"/><path d=\"M17.41 7.96l-1.37-1.37c-.4-.4-.92-.59-1.43-.59-.52 0-1.04.2-1.43.59L10.3 9.45l-7.72 7.72c-.78.78-.78 2.05 0 2.83L4 21.41c.39.39.9.59 1.41.59.51 0 1.02-.2 1.41-.59l7.78-7.78 2.81-2.81c.8-.78.8-2.07 0-2.86zM5.41 20L4 18.59l7.72-7.72 1.47 1.35L5.41 20z\"/>\n",
              "  </svg>\n",
              "      </button>\n",
              "      \n",
              "  <style>\n",
              "    .colab-df-container {\n",
              "      display:flex;\n",
              "      flex-wrap:wrap;\n",
              "      gap: 12px;\n",
              "    }\n",
              "\n",
              "    .colab-df-convert {\n",
              "      background-color: #E8F0FE;\n",
              "      border: none;\n",
              "      border-radius: 50%;\n",
              "      cursor: pointer;\n",
              "      display: none;\n",
              "      fill: #1967D2;\n",
              "      height: 32px;\n",
              "      padding: 0 0 0 0;\n",
              "      width: 32px;\n",
              "    }\n",
              "\n",
              "    .colab-df-convert:hover {\n",
              "      background-color: #E2EBFA;\n",
              "      box-shadow: 0px 1px 2px rgba(60, 64, 67, 0.3), 0px 1px 3px 1px rgba(60, 64, 67, 0.15);\n",
              "      fill: #174EA6;\n",
              "    }\n",
              "\n",
              "    [theme=dark] .colab-df-convert {\n",
              "      background-color: #3B4455;\n",
              "      fill: #D2E3FC;\n",
              "    }\n",
              "\n",
              "    [theme=dark] .colab-df-convert:hover {\n",
              "      background-color: #434B5C;\n",
              "      box-shadow: 0px 1px 3px 1px rgba(0, 0, 0, 0.15);\n",
              "      filter: drop-shadow(0px 1px 2px rgba(0, 0, 0, 0.3));\n",
              "      fill: #FFFFFF;\n",
              "    }\n",
              "  </style>\n",
              "\n",
              "      <script>\n",
              "        const buttonEl =\n",
              "          document.querySelector('#df-f5de0540-e399-46a5-bc46-a1bde6df3fb2 button.colab-df-convert');\n",
              "        buttonEl.style.display =\n",
              "          google.colab.kernel.accessAllowed ? 'block' : 'none';\n",
              "\n",
              "        async function convertToInteractive(key) {\n",
              "          const element = document.querySelector('#df-f5de0540-e399-46a5-bc46-a1bde6df3fb2');\n",
              "          const dataTable =\n",
              "            await google.colab.kernel.invokeFunction('convertToInteractive',\n",
              "                                                     [key], {});\n",
              "          if (!dataTable) return;\n",
              "\n",
              "          const docLinkHtml = 'Like what you see? Visit the ' +\n",
              "            '<a target=\"_blank\" href=https://colab.research.google.com/notebooks/data_table.ipynb>data table notebook</a>'\n",
              "            + ' to learn more about interactive tables.';\n",
              "          element.innerHTML = '';\n",
              "          dataTable['output_type'] = 'display_data';\n",
              "          await google.colab.output.renderOutput(dataTable, element);\n",
              "          const docLink = document.createElement('div');\n",
              "          docLink.innerHTML = docLinkHtml;\n",
              "          element.appendChild(docLink);\n",
              "        }\n",
              "      </script>\n",
              "    </div>\n",
              "  </div>\n",
              "  "
            ]
          },
          "metadata": {},
          "execution_count": 141
        }
      ]
    },
    {
      "cell_type": "markdown",
      "source": [
        "Following that, we will calculate the modularity scores for the clusters in clu using the corresponding network in ig_nets."
      ],
      "metadata": {
        "id": "ioWSa93FYKMi"
      }
    },
    {
      "cell_type": "code",
      "source": [
        "modularity_clu = pd.DataFrame(columns=('modularity',))\n",
        "for clu_name in clu_to_nets:\n",
        "    name=clu_to_nets[clu_name]\n",
        "    vc=ig.VertexClustering(ig_nets[name], membership=clu[clu_name])\n",
        "    modularity_clu.loc[clu_name]=[vc.modularity]"
      ],
      "metadata": {
        "id": "II2LSPIRbZKt"
      },
      "execution_count": null,
      "outputs": []
    },
    {
      "cell_type": "code",
      "source": [
        "modularity_clu"
      ],
      "metadata": {
        "colab": {
          "base_uri": "https://localhost:8080/",
          "height": 457
        },
        "id": "EnM_lVt7bZ1b",
        "outputId": "f6b88644-63ce-4629-ff06-3c81292cbc16"
      },
      "execution_count": null,
      "outputs": [
        {
          "output_type": "execute_result",
          "data": {
            "text/plain": [
              "                      modularity\n",
              "graph3+1+3              0.351562\n",
              "20x2+5x2                0.541586\n",
              "graph4+4                0.423077\n",
              "star                    0.000000\n",
              "cat_cortex_sim          0.245996\n",
              "zachary_unwh-real       0.371466\n",
              "dolphins-real           0.373482\n",
              "football-conferences    0.553973\n",
              "256_4_4_4_13_18_p       0.696773\n",
              "rb125-1                 0.600595\n",
              "rb125-2                 0.558144\n",
              "rb125-3                 0.553147\n",
              "256_4_4_2_15_18_p       0.781804"
            ],
            "text/html": [
              "\n",
              "  <div id=\"df-2547b870-fd13-45e9-b50f-2da99f472fa5\">\n",
              "    <div class=\"colab-df-container\">\n",
              "      <div>\n",
              "<style scoped>\n",
              "    .dataframe tbody tr th:only-of-type {\n",
              "        vertical-align: middle;\n",
              "    }\n",
              "\n",
              "    .dataframe tbody tr th {\n",
              "        vertical-align: top;\n",
              "    }\n",
              "\n",
              "    .dataframe thead th {\n",
              "        text-align: right;\n",
              "    }\n",
              "</style>\n",
              "<table border=\"1\" class=\"dataframe\">\n",
              "  <thead>\n",
              "    <tr style=\"text-align: right;\">\n",
              "      <th></th>\n",
              "      <th>modularity</th>\n",
              "    </tr>\n",
              "  </thead>\n",
              "  <tbody>\n",
              "    <tr>\n",
              "      <th>graph3+1+3</th>\n",
              "      <td>0.351562</td>\n",
              "    </tr>\n",
              "    <tr>\n",
              "      <th>20x2+5x2</th>\n",
              "      <td>0.541586</td>\n",
              "    </tr>\n",
              "    <tr>\n",
              "      <th>graph4+4</th>\n",
              "      <td>0.423077</td>\n",
              "    </tr>\n",
              "    <tr>\n",
              "      <th>star</th>\n",
              "      <td>0.000000</td>\n",
              "    </tr>\n",
              "    <tr>\n",
              "      <th>cat_cortex_sim</th>\n",
              "      <td>0.245996</td>\n",
              "    </tr>\n",
              "    <tr>\n",
              "      <th>zachary_unwh-real</th>\n",
              "      <td>0.371466</td>\n",
              "    </tr>\n",
              "    <tr>\n",
              "      <th>dolphins-real</th>\n",
              "      <td>0.373482</td>\n",
              "    </tr>\n",
              "    <tr>\n",
              "      <th>football-conferences</th>\n",
              "      <td>0.553973</td>\n",
              "    </tr>\n",
              "    <tr>\n",
              "      <th>256_4_4_4_13_18_p</th>\n",
              "      <td>0.696773</td>\n",
              "    </tr>\n",
              "    <tr>\n",
              "      <th>rb125-1</th>\n",
              "      <td>0.600595</td>\n",
              "    </tr>\n",
              "    <tr>\n",
              "      <th>rb125-2</th>\n",
              "      <td>0.558144</td>\n",
              "    </tr>\n",
              "    <tr>\n",
              "      <th>rb125-3</th>\n",
              "      <td>0.553147</td>\n",
              "    </tr>\n",
              "    <tr>\n",
              "      <th>256_4_4_2_15_18_p</th>\n",
              "      <td>0.781804</td>\n",
              "    </tr>\n",
              "  </tbody>\n",
              "</table>\n",
              "</div>\n",
              "      <button class=\"colab-df-convert\" onclick=\"convertToInteractive('df-2547b870-fd13-45e9-b50f-2da99f472fa5')\"\n",
              "              title=\"Convert this dataframe to an interactive table.\"\n",
              "              style=\"display:none;\">\n",
              "        \n",
              "  <svg xmlns=\"http://www.w3.org/2000/svg\" height=\"24px\"viewBox=\"0 0 24 24\"\n",
              "       width=\"24px\">\n",
              "    <path d=\"M0 0h24v24H0V0z\" fill=\"none\"/>\n",
              "    <path d=\"M18.56 5.44l.94 2.06.94-2.06 2.06-.94-2.06-.94-.94-2.06-.94 2.06-2.06.94zm-11 1L8.5 8.5l.94-2.06 2.06-.94-2.06-.94L8.5 2.5l-.94 2.06-2.06.94zm10 10l.94 2.06.94-2.06 2.06-.94-2.06-.94-.94-2.06-.94 2.06-2.06.94z\"/><path d=\"M17.41 7.96l-1.37-1.37c-.4-.4-.92-.59-1.43-.59-.52 0-1.04.2-1.43.59L10.3 9.45l-7.72 7.72c-.78.78-.78 2.05 0 2.83L4 21.41c.39.39.9.59 1.41.59.51 0 1.02-.2 1.41-.59l7.78-7.78 2.81-2.81c.8-.78.8-2.07 0-2.86zM5.41 20L4 18.59l7.72-7.72 1.47 1.35L5.41 20z\"/>\n",
              "  </svg>\n",
              "      </button>\n",
              "      \n",
              "  <style>\n",
              "    .colab-df-container {\n",
              "      display:flex;\n",
              "      flex-wrap:wrap;\n",
              "      gap: 12px;\n",
              "    }\n",
              "\n",
              "    .colab-df-convert {\n",
              "      background-color: #E8F0FE;\n",
              "      border: none;\n",
              "      border-radius: 50%;\n",
              "      cursor: pointer;\n",
              "      display: none;\n",
              "      fill: #1967D2;\n",
              "      height: 32px;\n",
              "      padding: 0 0 0 0;\n",
              "      width: 32px;\n",
              "    }\n",
              "\n",
              "    .colab-df-convert:hover {\n",
              "      background-color: #E2EBFA;\n",
              "      box-shadow: 0px 1px 2px rgba(60, 64, 67, 0.3), 0px 1px 3px 1px rgba(60, 64, 67, 0.15);\n",
              "      fill: #174EA6;\n",
              "    }\n",
              "\n",
              "    [theme=dark] .colab-df-convert {\n",
              "      background-color: #3B4455;\n",
              "      fill: #D2E3FC;\n",
              "    }\n",
              "\n",
              "    [theme=dark] .colab-df-convert:hover {\n",
              "      background-color: #434B5C;\n",
              "      box-shadow: 0px 1px 3px 1px rgba(0, 0, 0, 0.15);\n",
              "      filter: drop-shadow(0px 1px 2px rgba(0, 0, 0, 0.3));\n",
              "      fill: #FFFFFF;\n",
              "    }\n",
              "  </style>\n",
              "\n",
              "      <script>\n",
              "        const buttonEl =\n",
              "          document.querySelector('#df-2547b870-fd13-45e9-b50f-2da99f472fa5 button.colab-df-convert');\n",
              "        buttonEl.style.display =\n",
              "          google.colab.kernel.accessAllowed ? 'block' : 'none';\n",
              "\n",
              "        async function convertToInteractive(key) {\n",
              "          const element = document.querySelector('#df-2547b870-fd13-45e9-b50f-2da99f472fa5');\n",
              "          const dataTable =\n",
              "            await google.colab.kernel.invokeFunction('convertToInteractive',\n",
              "                                                     [key], {});\n",
              "          if (!dataTable) return;\n",
              "\n",
              "          const docLinkHtml = 'Like what you see? Visit the ' +\n",
              "            '<a target=\"_blank\" href=https://colab.research.google.com/notebooks/data_table.ipynb>data table notebook</a>'\n",
              "            + ' to learn more about interactive tables.';\n",
              "          element.innerHTML = '';\n",
              "          dataTable['output_type'] = 'display_data';\n",
              "          await google.colab.output.renderOutput(dataTable, element);\n",
              "          const docLink = document.createElement('div');\n",
              "          docLink.innerHTML = docLinkHtml;\n",
              "          element.appendChild(docLink);\n",
              "        }\n",
              "      </script>\n",
              "    </div>\n",
              "  </div>\n",
              "  "
            ]
          },
          "metadata": {},
          "execution_count": 114
        }
      ]
    },
    {
      "cell_type": "markdown",
      "source": [
        "We can plot the results observed in the table using the following plots."
      ],
      "metadata": {
        "id": "KlD3JCFBZDnz"
      }
    },
    {
      "cell_type": "code",
      "source": [
        "import matplotlib.pyplot as plt\n",
        "\n",
        "fig, ax = plt.subplots()\n",
        "modularity_nets.plot(ax=ax)\n",
        "ax.set_title('partitions found')\n",
        "fig.savefig('/content/drive/MyDrive/modularity_nets.png')\n",
        "\n",
        "fig, ax = plt.subplots()\n",
        "modularity_clu.plot(ax=ax)\n",
        "ax.set_title('reference')\n",
        "fig.savefig('/content/drive/MyDrive/modularity_clu.png')"
      ],
      "metadata": {
        "colab": {
          "base_uri": "https://localhost:8080/",
          "height": 887
        },
        "id": "uoij43-TgIZn",
        "outputId": "6469c0d8-ce76-4d1d-b3d3-1df96fd6df76"
      },
      "execution_count": null,
      "outputs": [
        {
          "output_type": "display_data",
          "data": {
            "text/plain": [
              "<Figure size 640x480 with 1 Axes>"
            ],
            "image/png": "[encoded data removed]"
          },
          "metadata": {}
        },
        {
          "output_type": "display_data",
          "data": {
            "text/plain": [
              "<Figure size 640x480 with 1 Axes>"
            ],
            "image/png": "[encoded data removed]"
          },
          "metadata": {}
        }
      ]
    },
    {
      "cell_type": "markdown",
      "source": [
        "##Plotting the different partitions using a color coded principle✅"
      ],
      "metadata": {
        "id": "N8zL2jOKauXp"
      }
    },
    {
      "cell_type": "markdown",
      "source": [
        "To plot the different partitions we will develop a function called plot_color_coded which takes a network name and a membership list as inputs, and produces a plot of the network where each node is color-coded based on its community membership in the given membership list. \n",
        "\n",
        "In fact, if a target file is specified, the plot is saved to that file, otherwise it is displayed. The function first constructs a nx.Graph object from an igraph.Graph object corresponding to the given network name. Then, it assigns a color to each node based on its community membership in the given membership list. \n",
        "\n",
        "The cmap variable is then set to a colormap with a number of colors equal to the number of unique communities in the membership list. \n",
        "\n",
        "Finally, the function uses nx.draw to draw the network with the color-coded nodes, and saves the plot to a file or displays it, depending on whether a target file was specified."
      ],
      "metadata": {
        "id": "y7cDj6q9ajCD"
      }
    },
    {
      "cell_type": "code",
      "source": [
        "def plot_color_coded(name, membership, target=None):\n",
        "    G = nx.Graph(ig_nets[name].get_edgelist())\n",
        "    node_colors = [membership[v.index] for v in ig_nets[name].vs]\n",
        "    cmap = plt.cm.get_cmap('viridis', len(set(node_colors)))\n",
        "    pos = nx.kamada_kawai_layout(G) if 'x' not in ig_nets[name].vs.attributes() else None\n",
        "    nx.draw(G, pos, node_size=5, width=0.5, node_color=node_colors, cmap=cmap)\n",
        "    plt.axis('off')\n",
        "    if target:\n",
        "        plt.savefig(target)\n",
        "    else:\n",
        "        plt.show()"
      ],
      "metadata": {
        "id": "cd0yQWCcjxw8"
      },
      "execution_count": null,
      "outputs": []
    },
    {
      "cell_type": "markdown",
      "source": [
        "We will apply it for every algorithm : Fast Greedy, Label Propagation and finally Louvain."
      ],
      "metadata": {
        "id": "fkbWP6zUb0Bz"
      }
    },
    {
      "cell_type": "code",
      "source": [
        "def plots_alg(name):\n",
        "    plot_color_coded(name, comm_fastgreedy(name).membership, '/content/drive/MyDrive/color_plots/'+name+'-fastgreedy.png' )\n",
        "    plot_color_coded(name, comm_label_propagation(name).membership, '/content/drive/MyDrive/color_plots/'+name+'-label_prop.png')\n",
        "    plot_color_coded(name, comm_louvain(name).membership, '/content/drive/MyDrive/color_plots/'+name+'-louvain.png')"
      ],
      "metadata": {
        "id": "A-1GLPorgTOm"
      },
      "execution_count": null,
      "outputs": []
    },
    {
      "cell_type": "markdown",
      "source": [
        "All of the plots are saved in the google drive folder to be able to compare them afterwards. "
      ],
      "metadata": {
        "id": "CB71lgY8bqxX"
      }
    },
    {
      "cell_type": "code",
      "source": [
        "for name in ig_nets:\n",
        "    plots_alg(name)"
      ],
      "metadata": {
        "id": "OxqspQk3h5vy"
      },
      "execution_count": null,
      "outputs": []
    },
    {
      "cell_type": "markdown",
      "source": [
        "##Comparison measures between our partitions and the reference ones using Jaccard, NMI and NVI. ✅"
      ],
      "metadata": {
        "id": "x68FjODcVWYX"
      }
    },
    {
      "cell_type": "markdown",
      "source": [
        "Actually we will compare these four algorithms  : Fast Greedy, Leading eigenvector, Label_prop and Louvain. And we will using fot this case igraph instead of networkx."
      ],
      "metadata": {
        "id": "O9bJIrLEV755"
      }
    },
    {
      "cell_type": "code",
      "source": [
        "comparison={}\n",
        "for clu_name in clu_to_nets:\n",
        "    name=clu_to_nets[clu_name]\n",
        "    comparison[name] = pd.DataFrame(columns=('algorithm', 'Jaccard', 'NMI', 'NVI' ))\n",
        "    \n",
        "    labels_true=clu[clu_name] \n",
        "    comparison[name].loc[0]=fastgreedy(labels_true, name)\n",
        "    comparison[name].loc[1]=leading_eigenvector(labels_true, name)\n",
        "    comparison[name].loc[2]=label_prop(labels_true, name)\n",
        "    comparison[name].loc[3]=louvain(labels_true, name)"
      ],
      "metadata": {
        "id": "kHMX3fgevpFs"
      },
      "execution_count": null,
      "outputs": []
    },
    {
      "cell_type": "code",
      "source": [
        "for name in comparison:\n",
        "    print('')\n",
        "    print(name)\n",
        "    print(comparison[name])"
      ],
      "metadata": {
        "colab": {
          "base_uri": "https://localhost:8080/"
        },
        "id": "q8k_e42IZV55",
        "outputId": "269bfa09-cc25-4244-dc6d-7bf30cc50645"
      },
      "execution_count": null,
      "outputs": [
        {
          "output_type": "stream",
          "name": "stdout",
          "text": [
            "\n",
            "graph3+1+3\n",
            "             algorithm   Jaccard      NMI       NVI\n",
            "0           fastgreedy  0.666667  0.80954  0.238237\n",
            "1  leading_eigenvector  0.666667  0.80954  0.238237\n",
            "2    label_propagation  0.666667  0.80954  0.238237\n",
            "3              louvain  0.666667  0.80954  0.238237\n",
            "\n",
            "20x2+5x2\n",
            "             algorithm   Jaccard       NMI       NVI\n",
            "0           fastgreedy  0.941176  0.938345  0.051124\n",
            "1  leading_eigenvector  0.941176  0.938345  0.051124\n",
            "2    label_propagation  1.000000  1.000000  0.000000\n",
            "3              louvain  0.941176  0.938345  0.051124\n",
            "\n",
            "graph4+4\n",
            "             algorithm  Jaccard  NMI  NVI\n",
            "0           fastgreedy      1.0  1.0  0.0\n",
            "1  leading_eigenvector      1.0  1.0  0.0\n",
            "2    label_propagation      1.0  1.0  0.0\n",
            "3              louvain      1.0  1.0  0.0\n",
            "\n",
            "star\n",
            "             algorithm  Jaccard  NMI  NVI\n",
            "0           fastgreedy      1.0  1.0  0.0\n",
            "1  leading_eigenvector      1.0  1.0  0.0\n",
            "2    label_propagation      1.0  1.0  0.0\n",
            "3              louvain      1.0  1.0  0.0\n",
            "\n",
            "cat_cortex_sim\n",
            "             algorithm   Jaccard       NMI       NVI\n",
            "0           fastgreedy  0.542169  0.656873  0.296602\n",
            "1  leading_eigenvector  0.547872  0.618651  0.332598\n",
            "2    label_propagation  0.257239  0.000000  0.481994\n",
            "3              louvain  0.589416  0.672641  0.285823\n",
            "\n",
            "zachary_unwh\n",
            "             algorithm   Jaccard       NMI       NVI\n",
            "0           fastgreedy  0.683274  0.692467  0.217697\n",
            "1  leading_eigenvector  0.505495  0.677092  0.269804\n",
            "2    label_propagation  0.758741  0.723881  0.182728\n",
            "3              louvain  0.450355  0.581858  0.350338\n",
            "\n",
            "dolphins\n",
            "             algorithm   Jaccard       NMI       NVI\n",
            "0           fastgreedy  0.504125  0.572700  0.271613\n",
            "1  leading_eigenvector  0.329314  0.448914  0.423804\n",
            "2    label_propagation  1.000000  1.000000  0.000000\n",
            "3              louvain  0.304798  0.474253  0.431107\n",
            "\n",
            "football\n",
            "             algorithm   Jaccard       NMI       NVI\n",
            "0           fastgreedy  0.362153  0.697732  0.385871\n",
            "1  leading_eigenvector  0.350324  0.698670  0.407185\n",
            "2    label_propagation  0.763200  0.910680  0.131033\n",
            "3              louvain  0.695906  0.884962  0.165626\n",
            "\n",
            "256_4_4_4_13_18_p\n",
            "             algorithm   Jaccard       NMI       NVI\n",
            "0           fastgreedy  1.000000  1.000000  0.000000\n",
            "1  leading_eigenvector  1.000000  1.000000  0.000000\n",
            "2    label_propagation  0.269841  0.680851  0.338132\n",
            "3              louvain  0.904762  0.951742  0.036576\n",
            "\n",
            "rb125\n",
            "             algorithm   Jaccard       NMI       NVI\n",
            "0           fastgreedy  0.281143  0.825443  0.287653\n",
            "1  leading_eigenvector  0.228837  0.781209  0.347461\n",
            "2    label_propagation  0.429358  0.913109  0.157606\n",
            "3              louvain  0.281143  0.825443  0.287653\n",
            "\n",
            "256_4_4_2_15_18_p\n",
            "             algorithm   Jaccard       NMI       NVI\n",
            "0           fastgreedy  0.483871  0.869708  0.166303\n",
            "1  leading_eigenvector  0.542431  0.924071  0.102676\n",
            "2    label_propagation  1.000000  1.000000  0.000000\n",
            "3              louvain  1.000000  1.000000  0.000000\n"
          ]
        }
      ]
    },
    {
      "cell_type": "code",
      "source": [
        "import matplotlib.pyplot as plt\n",
        "fig, ax = plt.subplots()\n",
        "ax.axis('off')\n",
        "ax.axis('tight')\n",
        "ax.table(cellText=comparison[name].values,\n",
        "         colLabels=comparison[name].columns,\n",
        "         rowLabels=comparison[name].index,\n",
        "         loc='center')\n",
        "fig.tight_layout()\n",
        "fig.savefig('/content/drive/MyDrive/comparaison_measures/' + name + '.png')"
      ],
      "metadata": {
        "colab": {
          "base_uri": "https://localhost:8080/",
          "height": 487
        },
        "id": "AU1i1CWYZStt",
        "outputId": "b2b71c00-8cfd-42ad-e7a4-e161ac175d8c"
      },
      "execution_count": null,
      "outputs": [
        {
          "output_type": "display_data",
          "data": {
            "text/plain": [
              "<Figure size 640x480 with 1 Axes>"
            ],
            "image/png": "[encoded data removed]"
          },
          "metadata": {}
        }
      ]
    },
    {
      "cell_type": "markdown",
      "source": [
        "##Comparison measures between our partitions and the reference ones using Jaccard, NMI and NVI.  ✅"
      ],
      "metadata": {
        "id": "D9v1RXHWb-By"
      }
    },
    {
      "cell_type": "markdown",
      "source": [
        "Actually we will compare these four algorithms  : Greedy Modularity, k_clique, Label_prop and Louvain. And we will using fot this case networkx instead of igraph."
      ],
      "metadata": {
        "id": "TU2g2J0wens8"
      }
    },
    {
      "cell_type": "code",
      "source": [
        "comparison_nx = {}\n",
        "for clu_name in clu_to_nets:\n",
        "    name = clu_to_nets[clu_name]\n",
        "    comparison_nx[name] = pd.DataFrame(columns=('algorithm', 'Jaccard', 'NMI', 'NVI' ))\n",
        "    \n",
        "    labels_true = clu[clu_name] \n",
        "    comparison_nx[name].loc[0] = greedy_mod_nx(labels_true, name)\n",
        "    comparison_nx[name].loc[1] = louvain_nx(labels_true, name)\n",
        "    comparison_nx[name].loc[2] = k_clique_nx(labels_true, name, 2) # change k as desired\n",
        "    comparison_nx[name].loc[3]=label_prop_nx(labels_true, name)"
      ],
      "metadata": {
        "id": "VJVwGml6x_Gn"
      },
      "execution_count": null,
      "outputs": []
    },
    {
      "cell_type": "code",
      "source": [
        "for name in comparison_nx:\n",
        "    print('')\n",
        "    print(name)\n",
        "    print(comparison_nx[name])\n"
      ],
      "metadata": {
        "colab": {
          "base_uri": "https://localhost:8080/"
        },
        "id": "XN8gidsys1II",
        "outputId": "31fa5f9b-1551-4782-c5cd-ba4c30721888"
      },
      "execution_count": null,
      "outputs": [
        {
          "output_type": "stream",
          "name": "stdout",
          "text": [
            "\n",
            "graph3+1+3\n",
            "           algorithm   Jaccard      NMI       NVI\n",
            "0  greedy_modularity  0.666667  0.80954  0.238237\n",
            "1            louvain  0.666667  0.80954  0.238237\n",
            "2           k-clique  0.285714  0.00000  0.744544\n",
            "3  label_propagation  0.666667  0.80954  0.238237\n",
            "\n",
            "20x2+5x2\n",
            "           algorithm   Jaccard       NMI       NVI\n",
            "0  greedy_modularity  0.941176  0.938345  0.051124\n",
            "1            louvain  0.941176  0.938345  0.051124\n",
            "2           k-clique  0.326531  0.000000  0.440163\n",
            "3  label_propagation  1.000000  1.000000  0.000000\n",
            "\n",
            "graph4+4\n",
            "           algorithm   Jaccard       NMI       NVI\n",
            "0  greedy_modularity  1.000000  1.000000  0.000000\n",
            "1            louvain  0.461538  0.585645  0.510367\n",
            "2           k-clique  0.428571  0.000000  0.480898\n",
            "3  label_propagation  1.000000  1.000000  0.000000\n",
            "\n",
            "star\n",
            "           algorithm  Jaccard  NMI  NVI\n",
            "0  greedy_modularity      1.0  1.0  0.0\n",
            "1            louvain      1.0  1.0  0.0\n",
            "2           k-clique      1.0  1.0  0.0\n",
            "3  label_propagation      1.0  1.0  0.0\n",
            "\n",
            "cat_cortex_sim\n",
            "           algorithm   Jaccard       NMI       NVI\n",
            "0  greedy_modularity  0.571930  0.702341  0.257299\n",
            "1            louvain  0.637218  0.729666  0.236034\n",
            "2           k-clique  0.257239  0.000000  0.481994\n",
            "3  label_propagation  0.257239  0.000000  0.481994\n",
            "\n",
            "zachary_unwh\n",
            "           algorithm   Jaccard       NMI       NVI\n",
            "0  greedy_modularity  0.379009  0.289122  0.503219\n",
            "1            louvain  0.465950  0.592773  0.341193\n",
            "2           k-clique  0.486631  0.000000  0.282870\n",
            "3  label_propagation  0.403361  0.254134  0.494754\n",
            "\n",
            "dolphins\n",
            "           algorithm   Jaccard       NMI       NVI\n",
            "0  greedy_modularity  0.245068  0.010911  0.628715\n",
            "1            louvain  0.379116  0.516234  0.364424\n",
            "2           k-clique  0.555791  0.000000  0.219805\n",
            "3  label_propagation  0.203363  0.041141  0.717362\n",
            "\n",
            "football\n",
            "           algorithm   Jaccard       NMI       NVI\n",
            "0  greedy_modularity  0.058675  0.147975  1.086858\n",
            "1            louvain  0.713004  0.892296  0.155381\n",
            "2           k-clique  0.079786  0.000000  0.746947\n",
            "3  label_propagation  0.044610  0.238707  1.113253\n",
            "\n",
            "256_4_4_4_13_18_p\n",
            "           algorithm   Jaccard     NMI       NVI\n",
            "0  greedy_modularity  1.000000  1.0000  0.000000\n",
            "1            louvain  1.000000  1.0000  0.000000\n",
            "2           k-clique  0.247059  0.0000  0.360674\n",
            "3  label_propagation  0.413333  0.6993  0.263123\n",
            "\n",
            "rb125\n",
            "           algorithm   Jaccard       NMI       NVI\n",
            "0  greedy_modularity  0.281143  0.825443  0.287653\n",
            "1            louvain  0.281143  0.825443  0.287653\n",
            "2           k-clique  0.031742  0.000000  0.967777\n",
            "3  label_propagation  0.159132  0.754033  0.420127\n",
            "\n",
            "256_4_4_2_15_18_p\n",
            "           algorithm   Jaccard       NMI       NVI\n",
            "0  greedy_modularity  0.461653  0.845852  0.196748\n",
            "1            louvain  1.000000  1.000000  0.000000\n",
            "2           k-clique  0.058824  0.000000  0.721348\n",
            "3  label_propagation  0.245902  0.773341  0.266577\n"
          ]
        }
      ]
    }
  ]
}